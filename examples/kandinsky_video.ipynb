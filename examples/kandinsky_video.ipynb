{
 "cells": [
  {
   "cell_type": "code",
   "execution_count": 2,
   "id": "a37be5f1",
   "metadata": {},
   "outputs": [
    {
     "name": "stderr",
     "output_type": "stream",
     "text": [
      "\n",
      "libgomp: Invalid value for environment variable OMP_NUM_THREADS\n"
     ]
    }
   ],
   "source": [
    "import sys\n",
    "sys.path.append('..')\n",
    "\n",
    "from video_kandinsky3 import get_T2V_pipeline"
   ]
  },
  {
   "cell_type": "code",
   "execution_count": 7,
   "id": "a9651285",
   "metadata": {},
   "outputs": [],
   "source": [
    "t2v_pipe = get_T2V_pipeline('cuda', fp16=True)"
   ]
  },
  {
   "cell_type": "code",
   "execution_count": 5,
   "id": "7096d952",
   "metadata": {},
   "outputs": [
    {
     "name": "stderr",
     "output_type": "stream",
     "text": [
      "100%|██████████| 50/50 [00:24<00:00,  2.03it/s]\n",
      "100%|██████████| 50/50 [00:21<00:00,  2.38it/s]\n"
     ]
    }
   ],
   "source": [
    "fps = 'medium' # ['low', 'medium', 'high']\n",
    "video = t2v_pipe(\n",
    "    'a red car is drifting on the mountain road, close view, fast movement',\n",
    "    width=640, height=384, fps=fps\n",
    ")"
   ]
  },
  {
   "cell_type": "code",
   "execution_count": null,
   "id": "7c13b3b7",
   "metadata": {},
   "outputs": [],
   "source": []
  }
 ],
 "metadata": {
  "kernelspec": {
   "display_name": "Python 3 (ipykernel)",
   "language": "python",
   "name": "python3"
  },
  "language_info": {
   "codemirror_mode": {
    "name": "ipython",
    "version": 3
   },
   "file_extension": ".py",
   "mimetype": "text/x-python",
   "name": "python",
   "nbconvert_exporter": "python",
   "pygments_lexer": "ipython3",
   "version": "3.9.16"
  }
 },
 "nbformat": 4,
 "nbformat_minor": 5
}
